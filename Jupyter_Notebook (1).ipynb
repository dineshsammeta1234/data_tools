{
 "cells": [
  {
   "cell_type": "markdown",
   "metadata": {},
   "source": [
    "<center>\n",
    "    <img src=\"https://cf-courses-data.s3.us.cloud-object-storage.appdomain.cloud/IBMDeveloperSkillsNetwork-DS0105EN-SkillsNetwork/labs/Module2/images/SN_web_lightmode.png\" width=\"300\" alt=\"cognitiveclass.ai logo\">\n",
    "</center>\n"
   ]
  },
  {
   "cell_type": "markdown",
   "metadata": {},
   "source": [
    "# Title\n",
    "Final Assignment "
   ]
  },
  {
   "cell_type": "markdown",
   "metadata": {},
   "source": [
    "## Introduction\n",
    "MySelf, Sammeta Dinesh Kumar i have recently completed my Masters(MSc) in Advanced Computer Science at University of Leicester. I am taking this course to get a job in the field of  data Science.This is final assignment in Tools in data Science Course to create a jupitor notebook and get reviewed"
   ]
  },
  {
   "cell_type": "markdown",
   "metadata": {},
   "source": [
    "#### Add your code below following the instructions given in the course\n"
   ]
  },
  {
   "cell_type": "markdown",
   "metadata": {},
   "source": [
    "## Data Science Languages\n",
    "\n",
    "Python\n",
    "R for DATA Science\n",
    "Scala\n",
    "Java"
   ]
  },
  {
   "cell_type": "markdown",
   "metadata": {},
   "source": [
    "## List of data science libraries\n",
    " \n",
    " Python:\n",
    " Numpy,Pandas,Matlabplot,Keras, Pytorch, Tensorflow, Scikit-learn\n",
    " R:\n",
    " ggplot,dplyr,ceret"
   ]
  },
  {
   "cell_type": "markdown",
   "metadata": {},
   "source": [
    "## Data Science Tools\n",
    "\n",
    "| Tool             | Description                                                                                 | Use Case                           \n",
    "| Python           | A high-level programming language widely used for data analysis, machine learning, and AI   | Data analysis, machine learning, scripting|\n",
    "| R                | A programming language and software environment for statistical computing and graphics      | Statistical analysis, data visualization  |\n",
    "| Jupyter Notebook | An open-source web application that allows you to create and share documents with live code | Interactive computing, data visualization |\n",
    "| Apache Hadoop    | A framework that allows for the distributed processing of large data sets across clusters   | Big data processing                       |\n",
    "| Apache Spark     | An open-source unified analytics engine for large-scale data processing                     | Big data processing, machine learning     |\n",
    "| Tableau          | A visual analytics platform transforming the way we use data to solve problems              | Data visualization                        |\n",
    "| TensorFlow       | An end-to-end open-source platform for machine learning                                     | Machine learning, deep learning           |\n",
    "| Scikit-learn     | A free software machine learning library for the Python programming language                | Machine learning, data mining             |\n",
    "| SQL              | A domain-specific language used in programming and designed for managing data held in a RDBMS| Database management, data manipulation    |\n",
    "\n"
   ]
  },
  {
   "cell_type": "markdown",
   "metadata": {},
   "source": [
    "## Examples of Arthamatic Expressions\n",
    "\n",
    "\"+\" : Addition\n",
    "\"-\" : Subtraction\n",
    "\"*\" : Multiplication\n",
    "\"/\" : Division\n"
   ]
  },
  {
   "cell_type": "code",
   "execution_count": 7,
   "metadata": {
    "tags": []
   },
   "outputs": [
    {
     "name": "stdout",
     "output_type": "stream",
     "text": [
      "9\n",
      "20\n"
     ]
    }
   ],
   "source": [
    "'''Addition of number'''\n",
    "a = 4+5\n",
    "print(a)\n",
    "b = 4*5\n",
    "print(b)"
   ]
  },
  {
   "cell_type": "code",
   "execution_count": 8,
   "metadata": {
    "tags": []
   },
   "outputs": [
    {
     "name": "stdout",
     "output_type": "stream",
     "text": [
      "Hours  =  3.3333333333333335\n"
     ]
    }
   ],
   "source": [
    "def minutes(a):\n",
    "    print(\"Hours  = \",a/60)\n",
    "minutes(200)\n"
   ]
  },
  {
   "cell_type": "markdown",
   "metadata": {},
   "source": [
    "## List of Objectives\n",
    "\n",
    "Create a Jupyter Notebook with markdown and code cells\n",
    "List examples of languages, libraries and tools used in Data Science\n",
    "Share your Jupyter Notebook publicly on GitHub\n",
    "Evaluate notebooks submitted by your peers using the provided rubric\n",
    "Demonstrate proficiency in Data Science toolkit knowledge\n"
   ]
  },
  {
   "cell_type": "markdown",
   "metadata": {},
   "source": [
    "# Author\n",
    "Sammeta Dinesh Kumar"
   ]
  },
  {
   "cell_type": "code",
   "execution_count": null,
   "metadata": {},
   "outputs": [],
   "source": []
  }
 ],
 "metadata": {
  "kernelspec": {
   "display_name": "Python",
   "language": "python",
   "name": "conda-env-python-py"
  },
  "language_info": {
   "codemirror_mode": {
    "name": "ipython",
    "version": 3
   },
   "file_extension": ".py",
   "mimetype": "text/x-python",
   "name": "python",
   "nbconvert_exporter": "python",
   "pygments_lexer": "ipython3",
   "version": "3.7.12"
  }
 },
 "nbformat": 4,
 "nbformat_minor": 4
}
